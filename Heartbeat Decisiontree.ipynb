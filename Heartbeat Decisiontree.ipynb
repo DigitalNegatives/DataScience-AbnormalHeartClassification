{
 "cells": [
  {
   "cell_type": "code",
   "execution_count": 10,
   "metadata": {
    "collapsed": true
   },
   "outputs": [],
   "source": [
    "from sklearn.ensemble import RandomForestClassifier\n",
    "from sklearn.tree import DecisionTreeClassifier\n",
    "from sklearn.cross_validation import cross_val_score\n",
    "from scipy.io import wavfile\n",
    "from pylab import*\n",
    "import pandas as pd\n",
    "import matplotlib.pyplot as plt\n",
    "%matplotlib inline"
   ]
  },
  {
   "cell_type": "code",
   "execution_count": 11,
   "metadata": {
    "collapsed": true
   },
   "outputs": [],
   "source": [
    "# 1 == Abnormal, 0 == Normal\n",
    "def loadData(trainingFolder):\n",
    "    wav = pd.read_csv('{}/REFERENCE.csv'.format(trainingFolder), header=None, names =['filename', 'outcome'])\n",
    "    wav_list = []\n",
    "    wav_name = []\n",
    "    \n",
    "    wav.outcome.replace(to_replace=-1, value=0, inplace=True)\n",
    "    \n",
    "    for fname in wav.filename:\n",
    "        path = \"./{}/{}.wav\".format(trainingFolder, fname)\n",
    "        sampFreq, snd = wavfile.read(path)\n",
    "        snd = snd/(2.**15)\n",
    "        wav_list.append(snd)\n",
    "        wav_name.append(fname)\n",
    "    return wav_list, wav"
   ]
  },
  {
   "cell_type": "code",
   "execution_count": 12,
   "metadata": {
    "collapsed": true
   },
   "outputs": [],
   "source": [
    "def shortenTo9Sec(sndList):\n",
    "    snd9SecList = []\n",
    "    for snd in sndList:\n",
    "        sndNP = np.asarray(snd)\n",
    "        if sndNP.size <= 16384:\n",
    "            #print \"Case0\"\n",
    "            snd9sec = sndNP\n",
    "        #Check left and rigth side of max index\n",
    "        # max is at least 8000 from start and 8000 from end\n",
    "        elif sndNP.argmax() > 8000 and (sndNP.size - sndNP.argmax()) >= 8000:\n",
    "            #print \"Case1\"\n",
    "            snd9sec = snd[sndNP.argmax() - 8000:sndNP.argmax()+8000]\n",
    "        # max is within 8000 from start\n",
    "        elif sndNP.argmax() < 8000 and sndNP.size - sndNP.argmax() > 8000:\n",
    "            #print \"Case2\"\n",
    "            snd9sec = sndNP[0:16000]\n",
    "        # max is at least 8000 from start but within 8000 from end\n",
    "        elif sndNP.argmax() > 8000 and sndNP.size - sndNP.argmax() <= 8000:\n",
    "            #print \"Case3\"\n",
    "            snd9sec = sndNP[sndNP.size - 16000:sndNP.size]\n",
    "    \n",
    "        snd9SecList.append(snd9sec)\n",
    "    return snd9SecList"
   ]
  },
  {
   "cell_type": "code",
   "execution_count": 13,
   "metadata": {
    "collapsed": true
   },
   "outputs": [],
   "source": [
    "def average(snd, offset):\n",
    "    aveList = []\n",
    "    for x in range(0,len(snd), offset):\n",
    "        aveList.append(np.mean(snd[x:x+offset]))\n",
    "    return aveList"
   ]
  },
  {
   "cell_type": "code",
   "execution_count": 14,
   "metadata": {
    "collapsed": true
   },
   "outputs": [],
   "source": [
    "def fftProcess4(sndList, cutOffidx, offset):\n",
    "    sndFFTList = []\n",
    "    fList = []\n",
    "    NFFT = 16384\n",
    "    Fs = 2000\n",
    "    for idx, snd in enumerate(sndList):\n",
    "        L = len(snd)\n",
    "        Ypre = fft(snd, NFFT)/L\n",
    "        f = Fs/2*np.linspace(0.0, 1, NFFT/2+1)\n",
    "        fList.append(f)\n",
    "        Y = 2*np.abs(Ypre[0:NFFT/2+1])\n",
    "        #sndFFTList.append(Y[0:maxOffset][0::4])  #Get the average of every 4th data point\n",
    "        sndFFTList.append(average(Y[0:cutOffidx], 4))\n",
    "        #sndFFTList.append(maverage(Y, 4))\n",
    "    return sndFFTList, fList"
   ]
  },
  {
   "cell_type": "markdown",
   "metadata": {},
   "source": [
    "### Training D"
   ]
  },
  {
   "cell_type": "code",
   "execution_count": 15,
   "metadata": {
    "collapsed": true
   },
   "outputs": [],
   "source": [
    "sndDMList, wavDMDF = loadData('training-d_cleaned')\n",
    "sndDM9SecList = shortenTo9Sec(sndDMList)\n",
    "\n",
    "fftDMList, fDMList = fftProcess4(sndDM9SecList, 2458, 4) #set at 300Hz?"
   ]
  },
  {
   "cell_type": "code",
   "execution_count": 16,
   "metadata": {
    "collapsed": false
   },
   "outputs": [
    {
     "name": "stdout",
     "output_type": "stream",
     "text": [
      "CV AUC [ 1.          0.84722222  0.7         0.66        0.9       ], Average AUC 0.821444444444\n"
     ]
    }
   ],
   "source": [
    "modelDM = RandomForestClassifier(n_estimators = 20)\n",
    "scoresDM = cross_val_score(modelDM, fftDMList, wavDMDF.outcome, scoring='roc_auc', cv=5)\n",
    "print 'CV AUC {}, Average AUC {}'.format(scoresDM, scoresDM.mean())"
   ]
  },
  {
   "cell_type": "markdown",
   "metadata": {},
   "source": [
    "### Training A"
   ]
  },
  {
   "cell_type": "code",
   "execution_count": 17,
   "metadata": {
    "collapsed": true
   },
   "outputs": [],
   "source": [
    "sndAMList, wavAMDF = loadData('training-a_cleaned')\n",
    "sndAM9SecList = shortenTo9Sec(sndAMList)\n",
    "\n",
    "fftAMList, fAMList = fftProcess4(sndAM9SecList, 2458, 4) #set at 300Hz?"
   ]
  },
  {
   "cell_type": "code",
   "execution_count": 18,
   "metadata": {
    "collapsed": false
   },
   "outputs": [
    {
     "name": "stdout",
     "output_type": "stream",
     "text": [
      "CV AUC [ 0.57168079  0.6299435   0.57046477  0.59407796  0.52098951], Average AUC 0.577431305534\n"
     ]
    }
   ],
   "source": [
    "modelAM = RandomForestClassifier(n_estimators = 20)\n",
    "scoresAM = cross_val_score(modelAM, fftAMList, wavAMDF.outcome, scoring='roc_auc', cv=5)\n",
    "print 'CV AUC {}, Average AUC {}'.format(scoresAM, scoresAM.mean())"
   ]
  },
  {
   "cell_type": "code",
   "execution_count": 19,
   "metadata": {
    "collapsed": false
   },
   "outputs": [
    {
     "name": "stdout",
     "output_type": "stream",
     "text": [
      "0.509090909091\n"
     ]
    }
   ],
   "source": [
    "# Fit on Trinaing A and Score on Training E\n",
    "modelAM.fit(fftAMList, wavAMDF.outcome)\n",
    "print modelAM.score(fftDMList, wavDMDF.outcome)"
   ]
  },
  {
   "cell_type": "markdown",
   "metadata": {},
   "source": [
    "### Training B"
   ]
  },
  {
   "cell_type": "code",
   "execution_count": 20,
   "metadata": {
    "collapsed": true
   },
   "outputs": [],
   "source": [
    "sndBMList, wavBMDF = loadData('training-b_cleaned')\n",
    "sndBM9SecList = shortenTo9Sec(sndBMList)\n",
    "\n",
    "fftBMList, fBMList = fftProcess4(sndBM9SecList, 2458, 4) #set at 300Hz?"
   ]
  },
  {
   "cell_type": "code",
   "execution_count": 21,
   "metadata": {
    "collapsed": false
   },
   "outputs": [
    {
     "name": "stdout",
     "output_type": "stream",
     "text": [
      "CV AUC [ 0.63339438  0.63234385  0.50401979  0.49134199  0.56461039], Average AUC 0.565142080142\n"
     ]
    }
   ],
   "source": [
    "modelBM = RandomForestClassifier(n_estimators = 20)\n",
    "scoresBM = cross_val_score(modelBM, fftBMList, wavBMDF.outcome, scoring='roc_auc', cv=5)\n",
    "print 'CV AUC {}, Average AUC {}'.format(scoresBM, scoresBM.mean())"
   ]
  },
  {
   "cell_type": "code",
   "execution_count": 22,
   "metadata": {
    "collapsed": false
   },
   "outputs": [
    {
     "data": {
      "text/plain": [
       "0.43636363636363634"
      ]
     },
     "execution_count": 22,
     "metadata": {},
     "output_type": "execute_result"
    }
   ],
   "source": [
    "# Fit on Trinaing B and Score on Training D\n",
    "modelBM.fit(fftBMList, wavBMDF.outcome)\n",
    "modelBM.score(fftDMList, wavDMDF.outcome)"
   ]
  },
  {
   "cell_type": "markdown",
   "metadata": {},
   "source": [
    "### Training C"
   ]
  },
  {
   "cell_type": "code",
   "execution_count": 23,
   "metadata": {
    "collapsed": true
   },
   "outputs": [],
   "source": [
    "sndCMList, wavCMDF = loadData('training-c_cleaned')\n",
    "sndCM9SecList = shortenTo9Sec(sndCMList)\n",
    "\n",
    "fftCMList, fCMList = fftProcess4(sndCM9SecList, 2458, 4) #set at 300Hz?"
   ]
  },
  {
   "cell_type": "code",
   "execution_count": 24,
   "metadata": {
    "collapsed": false
   },
   "outputs": [
    {
     "name": "stdout",
     "output_type": "stream",
     "text": [
      "CV AUC [ 1.    0.65  0.6   0.5   0.75], Average AUC 0.7\n"
     ]
    }
   ],
   "source": [
    "modelCM = RandomForestClassifier(n_estimators = 20)\n",
    "scoresCM = cross_val_score(modelCM, fftCMList, wavCMDF.outcome, scoring='roc_auc', cv=5)\n",
    "print 'CV AUC {}, Average AUC {}'.format(scoresCM, scoresCM.mean())"
   ]
  },
  {
   "cell_type": "code",
   "execution_count": 25,
   "metadata": {
    "collapsed": false
   },
   "outputs": [
    {
     "name": "stdout",
     "output_type": "stream",
     "text": [
      "0.381818181818\n"
     ]
    }
   ],
   "source": [
    "modelCM.fit(fftCMList, wavCMDF.outcome)\n",
    "print modelCM.score(fftDMList, wavDMDF.outcome)"
   ]
  },
  {
   "cell_type": "code",
   "execution_count": null,
   "metadata": {
    "collapsed": true
   },
   "outputs": [],
   "source": []
  },
  {
   "cell_type": "markdown",
   "metadata": {},
   "source": [
    "### Training E"
   ]
  },
  {
   "cell_type": "code",
   "execution_count": 26,
   "metadata": {
    "collapsed": false
   },
   "outputs": [],
   "source": [
    "sndEMList, wavEMDF = loadData('training-e_cleaned')\n",
    "sndEM9SecList = shortenTo9Sec(sndEMList)\n",
    "\n",
    "fftEMList, fEMList = fftProcess4(sndEM9SecList, 2458, 4) #set at 300Hz?"
   ]
  },
  {
   "cell_type": "code",
   "execution_count": 27,
   "metadata": {
    "collapsed": false
   },
   "outputs": [
    {
     "name": "stdout",
     "output_type": "stream",
     "text": [
      "CV AUC [ 0.97876448  0.9767995   0.99327772  0.9741759   0.98362461], Average AUC 0.98132844207\n"
     ]
    }
   ],
   "source": [
    "modelEM = RandomForestClassifier(n_estimators = 20)\n",
    "scoresEM = cross_val_score(modelEM, fftEMList, wavEMDF.outcome, scoring='roc_auc', cv=5)\n",
    "print 'CV AUC {}, Average AUC {}'.format(scoresEM, scoresEM.mean())"
   ]
  },
  {
   "cell_type": "code",
   "execution_count": 28,
   "metadata": {
    "collapsed": false
   },
   "outputs": [
    {
     "data": {
      "text/plain": [
       "0.49090909090909091"
      ]
     },
     "execution_count": 28,
     "metadata": {},
     "output_type": "execute_result"
    }
   ],
   "source": [
    "# Fit on Trinaing E and Score on Training D\n",
    "modelEM.fit(fftEMList, wavEMDF.outcome)\n",
    "modelEM.score(fftDMList, wavDMDF.outcome)"
   ]
  },
  {
   "cell_type": "code",
   "execution_count": null,
   "metadata": {
    "collapsed": true
   },
   "outputs": [],
   "source": []
  }
 ],
 "metadata": {
  "kernelspec": {
   "display_name": "Python 2",
   "language": "python",
   "name": "python2"
  },
  "language_info": {
   "codemirror_mode": {
    "name": "ipython",
    "version": 2
   },
   "file_extension": ".py",
   "mimetype": "text/x-python",
   "name": "python",
   "nbconvert_exporter": "python",
   "pygments_lexer": "ipython2",
   "version": "2.7.10"
  }
 },
 "nbformat": 4,
 "nbformat_minor": 0
}
